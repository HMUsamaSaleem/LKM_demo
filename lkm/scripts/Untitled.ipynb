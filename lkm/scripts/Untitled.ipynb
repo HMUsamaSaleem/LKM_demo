{
 "cells": [
  {
   "cell_type": "code",
   "execution_count": null,
   "id": "c9c75f8e",
   "metadata": {},
   "outputs": [],
   "source": [
    "from selenium import webdriver\n",
    "from selenium.webdriver.common.by import By\n",
    "import pandas as pd\n",
    "import re\n",
    "from time import sleep\n",
    "from transformers import pipeline"
   ]
  },
  {
   "cell_type": "code",
   "execution_count": null,
   "id": "8f1cc90f",
   "metadata": {},
   "outputs": [],
   "source": [
    "df = pd.read_csv(\"C:/Users/PC/Desktop/pixeledge/lkm/dataset/inputfile/23oct.csv\")\n",
    "driver = webdriver.Firefox()\n",
    "first_10_lines_list = []\n",
    "\n",
    "for index, row in df.iterrows():\n",
    "    url = row[\"SEC.gov URL\"]\n",
    "    driver.get(url)\n",
    "    sleep(5)\n",
    "    page_text = driver.find_element(By.TAG_NAME, 'body').text\n",
    "    first_10_lines = page_text.splitlines()[:10]\n",
    "    first_10_lines_list.append(first_10_lines)\n",
    "\n",
    "driver.quit()"
   ]
  },
  {
   "cell_type": "code",
   "execution_count": null,
   "id": "0b2d4e74",
   "metadata": {},
   "outputs": [],
   "source": [
    "model_name = \"deepset/roberta-base-squad2\"\n",
    "nlp = pipeline('question-answering', model=model_name, tokenizer=model_name)\n",
    "for lines in first_10_lines_list:\n",
    "    # Convert the lines to a single string (joining each line with a space)\n",
    "    context = \" \".join(lines)\n",
    "\n",
    "    # Define your question\n",
    "    question = \"what is the name of admministrative agent?\"\n",
    "\n",
    "    # Use the QA model to extract the answer\n",
    "    QA_input = {'question': question, 'context': context}\n",
    "    result = nlp(QA_input)\n",
    "    if result['score'] < 0.5:\n",
    "        question = \"Who is the administrative agent in this text?\"\n",
    "        QA_input = {'question': question, 'context': context}\n",
    "        result = nlp(QA_input)\n",
    "    if result['score'] < 0.5:\n",
    "        question = \"Who serves as the administrative agent?\"\n",
    "        QA_input = {'question': question, 'context': context}\n",
    "        result = nlp(QA_input)\n",
    "    if result['score'] < 0.5:\n",
    "        question = \"Who holds the position of administrative agent?\"\n",
    "        QA_input = {'question': question, 'context': context}\n",
    "        result = nlp(QA_input)    \n",
    "    # Print the answer and other relevant information\n",
    "    print(f\"Question: {question}\")\n",
    "    print(f\"Answer: {result['answer']}\")\n",
    "    print(f\"Confidence: {result['score']}\")  # Confidence score\n",
    "    print()"
   ]
  },
  {
   "cell_type": "code",
   "execution_count": null,
   "id": "778c99ec",
   "metadata": {},
   "outputs": [],
   "source": [
    "text_1=str(text.split('Administrative Agent'))\n",
    "Agent_name = re.findall(r'\\b[A-Z][A-Z\\s,]+\\b', text_1)\n",
    "for keyword in Agent_name:\n",
    "    words = keyword.split()\n",
    "    if len(words) > 1:\n",
    "        print(keyword.strip(', '))"
   ]
  }
 ],
 "metadata": {
  "kernelspec": {
   "display_name": "Python 3 (ipykernel)",
   "language": "python",
   "name": "python3"
  },
  "language_info": {
   "codemirror_mode": {
    "name": "ipython",
    "version": 3
   },
   "file_extension": ".py",
   "mimetype": "text/x-python",
   "name": "python",
   "nbconvert_exporter": "python",
   "pygments_lexer": "ipython3",
   "version": "3.11.5"
  }
 },
 "nbformat": 4,
 "nbformat_minor": 5
}
